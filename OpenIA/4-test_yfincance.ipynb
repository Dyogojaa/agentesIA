{
 "cells": [
  {
   "cell_type": "code",
   "execution_count": 1,
   "id": "817addbe",
   "metadata": {},
   "outputs": [],
   "source": [
    "import yfinance as yf\n"
   ]
  },
  {
   "cell_type": "code",
   "execution_count": 7,
   "id": "c402a089",
   "metadata": {},
   "outputs": [
    {
     "data": {
      "text/plain": [
       "yfinance.Ticker object <BBDC4.SA>"
      ]
     },
     "execution_count": 7,
     "metadata": {},
     "output_type": "execute_result"
    }
   ],
   "source": [
    "ticker = \"BBDC4\"\n",
    "periodo = \"5d\"\n",
    "ticker_obj = yf.Ticker(f\"{ticker}.SA\")\n",
    "\n",
    "ticker_obj"
   ]
  },
  {
   "cell_type": "code",
   "execution_count": 8,
   "id": "607626e9",
   "metadata": {},
   "outputs": [
    {
     "data": {
      "text/html": [
       "<div>\n",
       "<style scoped>\n",
       "    .dataframe tbody tr th:only-of-type {\n",
       "        vertical-align: middle;\n",
       "    }\n",
       "\n",
       "    .dataframe tbody tr th {\n",
       "        vertical-align: top;\n",
       "    }\n",
       "\n",
       "    .dataframe thead th {\n",
       "        text-align: right;\n",
       "    }\n",
       "</style>\n",
       "<table border=\"1\" class=\"dataframe\">\n",
       "  <thead>\n",
       "    <tr style=\"text-align: right;\">\n",
       "      <th></th>\n",
       "      <th>Open</th>\n",
       "      <th>High</th>\n",
       "      <th>Low</th>\n",
       "      <th>Close</th>\n",
       "      <th>Volume</th>\n",
       "      <th>Dividends</th>\n",
       "      <th>Stock Splits</th>\n",
       "    </tr>\n",
       "    <tr>\n",
       "      <th>Date</th>\n",
       "      <th></th>\n",
       "      <th></th>\n",
       "      <th></th>\n",
       "      <th></th>\n",
       "      <th></th>\n",
       "      <th></th>\n",
       "      <th></th>\n",
       "    </tr>\n",
       "  </thead>\n",
       "  <tbody>\n",
       "    <tr>\n",
       "      <th>2025-06-13 00:00:00-03:00</th>\n",
       "      <td>16.260000</td>\n",
       "      <td>16.450001</td>\n",
       "      <td>16.139999</td>\n",
       "      <td>16.290001</td>\n",
       "      <td>29855200</td>\n",
       "      <td>0.0</td>\n",
       "      <td>0.0</td>\n",
       "    </tr>\n",
       "    <tr>\n",
       "      <th>2025-06-16 00:00:00-03:00</th>\n",
       "      <td>16.440001</td>\n",
       "      <td>16.740000</td>\n",
       "      <td>16.420000</td>\n",
       "      <td>16.639999</td>\n",
       "      <td>25238300</td>\n",
       "      <td>0.0</td>\n",
       "      <td>0.0</td>\n",
       "    </tr>\n",
       "    <tr>\n",
       "      <th>2025-06-17 00:00:00-03:00</th>\n",
       "      <td>16.629999</td>\n",
       "      <td>16.889999</td>\n",
       "      <td>16.610001</td>\n",
       "      <td>16.889999</td>\n",
       "      <td>33555400</td>\n",
       "      <td>0.0</td>\n",
       "      <td>0.0</td>\n",
       "    </tr>\n",
       "    <tr>\n",
       "      <th>2025-06-18 00:00:00-03:00</th>\n",
       "      <td>16.629999</td>\n",
       "      <td>16.950001</td>\n",
       "      <td>16.610001</td>\n",
       "      <td>16.760000</td>\n",
       "      <td>32449600</td>\n",
       "      <td>0.0</td>\n",
       "      <td>0.0</td>\n",
       "    </tr>\n",
       "    <tr>\n",
       "      <th>2025-06-20 00:00:00-03:00</th>\n",
       "      <td>16.629999</td>\n",
       "      <td>16.740000</td>\n",
       "      <td>16.490000</td>\n",
       "      <td>16.620001</td>\n",
       "      <td>39661600</td>\n",
       "      <td>0.0</td>\n",
       "      <td>0.0</td>\n",
       "    </tr>\n",
       "  </tbody>\n",
       "</table>\n",
       "</div>"
      ],
      "text/plain": [
       "                                Open       High        Low      Close  \\\n",
       "Date                                                                    \n",
       "2025-06-13 00:00:00-03:00  16.260000  16.450001  16.139999  16.290001   \n",
       "2025-06-16 00:00:00-03:00  16.440001  16.740000  16.420000  16.639999   \n",
       "2025-06-17 00:00:00-03:00  16.629999  16.889999  16.610001  16.889999   \n",
       "2025-06-18 00:00:00-03:00  16.629999  16.950001  16.610001  16.760000   \n",
       "2025-06-20 00:00:00-03:00  16.629999  16.740000  16.490000  16.620001   \n",
       "\n",
       "                             Volume  Dividends  Stock Splits  \n",
       "Date                                                          \n",
       "2025-06-13 00:00:00-03:00  29855200        0.0           0.0  \n",
       "2025-06-16 00:00:00-03:00  25238300        0.0           0.0  \n",
       "2025-06-17 00:00:00-03:00  33555400        0.0           0.0  \n",
       "2025-06-18 00:00:00-03:00  32449600        0.0           0.0  \n",
       "2025-06-20 00:00:00-03:00  39661600        0.0           0.0  "
      ]
     },
     "execution_count": 8,
     "metadata": {},
     "output_type": "execute_result"
    }
   ],
   "source": [
    "ticker_obj.history(period=periodo)"
   ]
  },
  {
   "cell_type": "code",
   "execution_count": 16,
   "id": "f54a4454",
   "metadata": {},
   "outputs": [],
   "source": [
    "def retorna_cotacao(ticker, periodo=\"1mo\"):\n",
    "    ticker_obj = yf.Ticker(f\"{ticker}.SA\")\n",
    "    hist = ticker_obj.history(period=periodo)[\"Close\"]\n",
    "    hist.index = hist.index.strftime(\"%Y-%m-%d\")\n",
    "    hist = round(hist, 2)\n",
    "    # Limitar em 30 Resultados\n",
    "    \n",
    "    if len(hist)> 30:\n",
    "        slice_size = max(1, len(hist) // 30)\n",
    "        hist = hist.iloc[::slice_size].iloc[::-1]\n",
    "        \n",
    "    return hist.to_json()\n"
   ]
  },
  {
   "cell_type": "code",
   "execution_count": 18,
   "id": "f229b4af",
   "metadata": {},
   "outputs": [
    {
     "data": {
      "text/plain": [
       "'{\"2025-05-20\":25.5,\"2025-05-21\":25.26,\"2025-05-22\":25.05,\"2025-05-23\":24.42,\"2025-05-26\":24.67,\"2025-05-27\":24.57,\"2025-05-28\":24.08,\"2025-05-29\":23.7,\"2025-05-30\":23.42,\"2025-06-02\":23.28,\"2025-06-03\":22.98,\"2025-06-04\":22.35,\"2025-06-05\":22.24,\"2025-06-06\":21.71,\"2025-06-09\":21.73,\"2025-06-10\":21.54,\"2025-06-11\":21.4,\"2025-06-12\":21.42,\"2025-06-13\":21.59,\"2025-06-16\":21.98,\"2025-06-17\":21.9,\"2025-06-18\":21.81,\"2025-06-20\":21.35}'"
      ]
     },
     "execution_count": 18,
     "metadata": {},
     "output_type": "execute_result"
    }
   ],
   "source": [
    "hist = retorna_cotacao(\"BBAS3\")\n",
    "hist"
   ]
  }
 ],
 "metadata": {
  "kernelspec": {
   "display_name": "venv",
   "language": "python",
   "name": "python3"
  },
  "language_info": {
   "codemirror_mode": {
    "name": "ipython",
    "version": 3
   },
   "file_extension": ".py",
   "mimetype": "text/x-python",
   "name": "python",
   "nbconvert_exporter": "python",
   "pygments_lexer": "ipython3",
   "version": "3.12.0"
  }
 },
 "nbformat": 4,
 "nbformat_minor": 5
}
