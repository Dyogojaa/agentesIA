{
 "cells": [
  {
   "cell_type": "code",
   "execution_count": 7,
   "id": "cce18742",
   "metadata": {},
   "outputs": [],
   "source": [
    "import openai\n",
    "\n",
    "client = openai.Client()\n",
    "\n",
    "\n"
   ]
  },
  {
   "cell_type": "code",
   "execution_count": 9,
   "id": "f68f77c9",
   "metadata": {},
   "outputs": [],
   "source": [
    "assistant = client.beta.assistants.create(\n",
    "    name=\"Tutor de Tecnologia\",\n",
    "    instructions=\"Você é um tutor sobre assuntos relacionados a tecnologia\",\n",
    "    tools=[{\"type\": \"code_interpreter\"}],\n",
    "    model=\"gpt-3.5-turbo-0125\"\n",
    ")"
   ]
  },
  {
   "cell_type": "code",
   "execution_count": 10,
   "id": "8ad0750f",
   "metadata": {},
   "outputs": [],
   "source": [
    "pergunta =\"\"\"\n",
    "Em  um sistema de chace com mapeaamento direto, dado uma memória principal de uma cache\n",
    "de 256 Kb e blocos de 64 bytes\n",
    "- Quantas linhas existem na cache ?\n",
    "- Onde o bloco de endereço 0x1A23C será mapeado na cache ?\n",
    "\"\"\"\n"
   ]
  },
  {
   "cell_type": "code",
   "execution_count": 12,
   "id": "1491f536",
   "metadata": {},
   "outputs": [
    {
     "name": "stderr",
     "output_type": "stream",
     "text": [
      "C:\\Users\\dyogo.almeida\\AppData\\Local\\Temp\\ipykernel_26596\\143534826.py:3: DeprecationWarning: The Assistants API is deprecated in favor of the Responses API\n",
      "  thread = client.beta.threads.create()\n",
      "C:\\Users\\dyogo.almeida\\AppData\\Local\\Temp\\ipykernel_26596\\143534826.py:4: DeprecationWarning: The Assistants API is deprecated in favor of the Responses API\n",
      "  message = client.beta.threads.messages.create(\n"
     ]
    }
   ],
   "source": [
    "# Criação da Thread\n",
    "\n",
    "thread = client.beta.threads.create()\n",
    "message = client.beta.threads.messages.create(\n",
    "    thread_id = thread.id,\n",
    "    role =\"user\",\n",
    "    content = pergunta\n",
    ")"
   ]
  },
  {
   "cell_type": "code",
   "execution_count": 13,
   "id": "1913dc0f",
   "metadata": {},
   "outputs": [
    {
     "name": "stderr",
     "output_type": "stream",
     "text": [
      "C:\\Users\\dyogo.almeida\\AppData\\Local\\Temp\\ipykernel_26596\\3010580843.py:3: DeprecationWarning: The Assistants API is deprecated in favor of the Responses API\n",
      "  run = client.beta.threads.runs.create(\n"
     ]
    }
   ],
   "source": [
    "# Executa a Thread\n",
    "\n",
    "run = client.beta.threads.runs.create(\n",
    "    thread_id = thread.id,\n",
    "    assistant_id = assistant.id,\n",
    "    instructions = \"Nome do usuário premium \"\n",
    ")"
   ]
  },
  {
   "cell_type": "code",
   "execution_count": 14,
   "id": "794e1508",
   "metadata": {},
   "outputs": [
    {
     "data": {
      "text/plain": [
       "Run(id='run_EofAfwHqCwUosH5IAci8vETG', assistant_id='asst_tsKiczhKim3uVqKLNafaP3nQ', cancelled_at=None, completed_at=None, created_at=1750789203, expires_at=1750789803, failed_at=None, incomplete_details=None, instructions='Nome do usuário premium ', last_error=None, max_completion_tokens=None, max_prompt_tokens=None, metadata={}, model='gpt-3.5-turbo-0125', object='thread.run', parallel_tool_calls=True, required_action=None, response_format='auto', started_at=None, status='queued', thread_id='thread_tpL8EJfHGnhbCz38QL55dL9b', tool_choice='auto', tools=[CodeInterpreterTool(type='code_interpreter')], truncation_strategy=TruncationStrategy(type='auto', last_messages=None), usage=None, temperature=1.0, top_p=1.0, tool_resources={}, reasoning_effort=None)"
      ]
     },
     "execution_count": 14,
     "metadata": {},
     "output_type": "execute_result"
    }
   ],
   "source": [
    "run"
   ]
  },
  {
   "cell_type": "code",
   "execution_count": 17,
   "id": "606f3ebc",
   "metadata": {},
   "outputs": [
    {
     "name": "stderr",
     "output_type": "stream",
     "text": [
      "C:\\Users\\dyogo.almeida\\AppData\\Local\\Temp\\ipykernel_26596\\860887447.py:7: DeprecationWarning: The Assistants API is deprecated in favor of the Responses API\n",
      "  run = client.beta.threads.runs.retrieve(\n"
     ]
    }
   ],
   "source": [
    "import time\n",
    "\n",
    "# Assuming 'client', 'thread', and 'run' are already defined from previous steps\n",
    "\n",
    "while run.status in [\"queued\", \"in_progress\", \"cancelling\"]:\n",
    "    time.sleep(1)\n",
    "    run = client.beta.threads.runs.retrieve(\n",
    "        thread_id=thread.id,\n",
    "        run_id = run.id\n",
    "    )"
   ]
  },
  {
   "cell_type": "code",
   "execution_count": 18,
   "id": "874ebbc6",
   "metadata": {},
   "outputs": [
    {
     "name": "stderr",
     "output_type": "stream",
     "text": [
      "C:\\Users\\dyogo.almeida\\AppData\\Local\\Temp\\ipykernel_26596\\205122692.py:2: DeprecationWarning: The Assistants API is deprecated in favor of the Responses API\n",
      "  mensagens = client.beta.threads.messages.list(\n"
     ]
    },
    {
     "name": "stdout",
     "output_type": "stream",
     "text": [
      "SyncCursorPage[Message](data=[Message(id='msg_emKY2QN0ArufV2rtuTvV38JW', assistant_id='asst_tsKiczhKim3uVqKLNafaP3nQ', attachments=[], completed_at=None, content=[TextContentBlock(text=Text(annotations=[], value='Portanto:\\n- O número de linhas na cache é de 4096.\\n- O bloco de endereço 0x1A23C será mapeado na linha 572 da cache.'), type='text')], created_at=1750789211, incomplete_at=None, incomplete_details=None, metadata={}, object='thread.message', role='assistant', run_id='run_EofAfwHqCwUosH5IAci8vETG', status=None, thread_id='thread_tpL8EJfHGnhbCz38QL55dL9b'), Message(id='msg_GYdjefsQxRSBLSupUX6EEh5r', assistant_id='asst_tsKiczhKim3uVqKLNafaP3nQ', attachments=[], completed_at=None, content=[TextContentBlock(text=Text(annotations=[], value='Para calcular a quantidade de linhas na cache em um sistema de mapeamento direto, podemos usar a fórmula:\\n\\n\\\\[ \\\\text{Número de Linhas} = \\\\frac{\\\\text{Tamanho da Cache}}{\\\\text{Tamanho do Bloco}} \\\\]\\n\\nDado que a memória principal da cache é de 256 Kb (256 Kilobytes) e os blocos possuem 64 bytes, podemos calculá-lo.\\n\\nEm seguida, para determinar em qual linha da cache o bloco de endereço 0x1A23C será mapeado, precisamos usar a fórmula:\\n\\n\\\\[ \\\\text{Linha da Cache} = \\\\text{Endereço do Bloco} \\\\mod \\\\text{Número de Linhas} \\\\]\\n\\nVamos calcular isso.'), type='text')], created_at=1750789206, incomplete_at=None, incomplete_details=None, metadata={}, object='thread.message', role='assistant', run_id='run_EofAfwHqCwUosH5IAci8vETG', status=None, thread_id='thread_tpL8EJfHGnhbCz38QL55dL9b'), Message(id='msg_eubdE3AWUvoAX6cIk7tPrANG', assistant_id=None, attachments=[], completed_at=None, content=[TextContentBlock(text=Text(annotations=[], value='\\nEm  um sistema de chace com mapeaamento direto, dado uma memória principal de uma cache\\nde 256 Kb e blocos de 64 bytes\\n- Quantas linhas existem na cache ?\\n- Onde o bloco de endereço 0x1A23C será mapeado na cache ?\\n'), type='text')], created_at=1750788980, incomplete_at=None, incomplete_details=None, metadata={}, object='thread.message', role='user', run_id=None, status=None, thread_id='thread_tpL8EJfHGnhbCz38QL55dL9b')], has_more=False, object='list', first_id='msg_emKY2QN0ArufV2rtuTvV38JW', last_id='msg_eubdE3AWUvoAX6cIk7tPrANG')\n"
     ]
    }
   ],
   "source": [
    "if run.status ==\"completed\":\n",
    "    mensagens = client.beta.threads.messages.list(\n",
    "        thread_id=thread.id\n",
    "    )\n",
    "    print(mensagens)\n",
    "else:\n",
    "    print(f\"Erro {run.status}\")\n",
    "                \n"
   ]
  },
  {
   "cell_type": "code",
   "execution_count": 21,
   "id": "15c352ac",
   "metadata": {},
   "outputs": [
    {
     "name": "stdout",
     "output_type": "stream",
     "text": [
      "Portanto:\n",
      "- O número de linhas na cache é de 4096.\n",
      "- O bloco de endereço 0x1A23C será mapeado na linha 572 da cache.\n"
     ]
    }
   ],
   "source": [
    "print(mensagens.data[0].content[0].text.value)"
   ]
  },
  {
   "cell_type": "markdown",
   "id": "7b3c2a29",
   "metadata": {},
   "source": [
    "# Analisando os Passos do Modelo\n"
   ]
  },
  {
   "cell_type": "code",
   "execution_count": 24,
   "id": "20604722",
   "metadata": {},
   "outputs": [
    {
     "name": "stderr",
     "output_type": "stream",
     "text": [
      "C:\\Users\\dyogo.almeida\\AppData\\Local\\Temp\\ipykernel_26596\\3582718740.py:1: DeprecationWarning: The Assistants API is deprecated in favor of the Responses API\n",
      "  run_steps = client.beta.threads.runs.steps.list(\n"
     ]
    }
   ],
   "source": [
    "run_steps = client.beta.threads.runs.steps.list(\n",
    "     thread_id=thread.id,\n",
    "     run_id = run.id\n",
    ")"
   ]
  },
  {
   "cell_type": "code",
   "execution_count": 27,
   "id": "1f619327",
   "metadata": {},
   "outputs": [
    {
     "name": "stdout",
     "output_type": "stream",
     "text": [
      "\n",
      "====Step message_creation\n"
     ]
    },
    {
     "name": "stderr",
     "output_type": "stream",
     "text": [
      "C:\\Users\\dyogo.almeida\\AppData\\Local\\Temp\\ipykernel_26596\\712933490.py:9: DeprecationWarning: The Assistants API is deprecated in favor of the Responses API\n",
      "  message = client.beta.threads.messages.retrieve(\n"
     ]
    },
    {
     "name": "stdout",
     "output_type": "stream",
     "text": [
      "Portanto:\n",
      "- O número de linhas na cache é de 4096.\n",
      "- O bloco de endereço 0x1A23C será mapeado na linha 572 da cache.\n",
      "\n",
      "====Step tool_calls\n",
      "==========\n",
      "# Dados do problema\n",
      "tamanho_cache_kb = 256\n",
      "tamanho_bloco_bytes = 64\n",
      "endereco_bloco = 0x1A23C\n",
      "\n",
      "# Convertendo o tamanho da cache para bytes\n",
      "tamanho_cache_bytes = tamanho_cache_kb * 1024\n",
      "\n",
      "# Calculando o número de linhas na cache\n",
      "num_linhas_cache = tamanho_cache_bytes / tamanho_bloco_bytes\n",
      "\n",
      "# Calculando em qual linha da cache o bloco de endereço será mapeado\n",
      "linha_cache = endereco_bloco % num_linhas_cache\n",
      "\n",
      "num_linhas_cache, linha_cache\n",
      "==========\n",
      "\n",
      "====Step message_creation\n",
      "Portanto:\n",
      "- O número de linhas na cache é de 4096.\n",
      "- O bloco de endereço 0x1A23C será mapeado na linha 572 da cache.\n"
     ]
    }
   ],
   "source": [
    "for step in run_steps.data[::-1]:\n",
    "    print(f\"\\n====Step {step.step_details.type}\")\n",
    "    if step.step_details.type == \"tool_calls\":\n",
    "        for tool_call in step.step_details.tool_calls:\n",
    "            print(\"=\" *10)\n",
    "            print(tool_call.code_interpreter.input)\n",
    "            print(\"=\" *10)\n",
    "    if step.step_details.type == \"message_creation\": \n",
    "        message = client.beta.threads.messages.retrieve(\n",
    "            thread_id=thread.id,\n",
    "            message_id = step.step_details.message_creation.message_id\n",
    "        )\n",
    "        print(mensagens.data[0].content[0].text.value)"
   ]
  }
 ],
 "metadata": {
  "kernelspec": {
   "display_name": "venv",
   "language": "python",
   "name": "python3"
  },
  "language_info": {
   "codemirror_mode": {
    "name": "ipython",
    "version": 3
   },
   "file_extension": ".py",
   "mimetype": "text/x-python",
   "name": "python",
   "nbconvert_exporter": "python",
   "pygments_lexer": "ipython3",
   "version": "3.12.0"
  }
 },
 "nbformat": 4,
 "nbformat_minor": 5
}
