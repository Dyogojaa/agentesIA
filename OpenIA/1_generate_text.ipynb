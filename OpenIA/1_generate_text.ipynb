{
 "cells": [
  {
   "cell_type": "code",
   "execution_count": 3,
   "id": "12175ea7",
   "metadata": {},
   "outputs": [],
   "source": [
    "import openai\n",
    "\n",
    "client = openai.Client()\n",
    "\n"
   ]
  },
  {
   "cell_type": "markdown",
   "id": "ca256166",
   "metadata": {},
   "source": [
    "### Fluxo da Conversa\n",
    " *  User: Usuário que inicia a conversa\n",
    " * Assistant: Bot que responde a pergunta\n",
    " "
   ]
  },
  {
   "cell_type": "code",
   "execution_count": null,
   "id": "651ac9a5",
   "metadata": {},
   "outputs": [
    {
     "data": {
      "text/plain": [
       "[{'role': 'user', 'content': 'Defina uma laranja em 5 palavras'},\n",
       " {'role': 'assistant', 'content': 'Fruta cítrica suculenta e saborosa.'},\n",
       " {'role': 'user', 'content': 'E qual a sua cor ?'},\n",
       " {'role': 'assistant', 'content': 'Laranja.'}]"
      ]
     },
     "execution_count": 12,
     "metadata": {},
     "output_type": "execute_result"
    }
   ],
   "source": [
    "mensagens = [{\"role\":\"user\", \"content\":\"Defina uma laranja em 5 palavras\"}]\n",
    "\n",
    "resposta = client.chat.completions.create(\n",
    "    messages=mensagens,\n",
    "    model=\"gpt-3.5-turbo-0125\",\n",
    "    max_tokens=1000,\n",
    "    temperature=0\n",
    ")\n",
    "\n",
    "\n",
    "mensagens.append({\"role\":\"assistant\", \"content\":resposta.choices[0].message.content})\n",
    "\n",
    "mensagens.append({\"role\":\"user\", \"content\":\"E qual a sua cor ?\"})\n",
    "\n",
    "resposta = client.chat.completions.create(\n",
    "    messages=mensagens,\n",
    "    model=\"gpt-3.5-turbo-0125\",\n",
    "    max_tokens=1000,\n",
    "    temperature=0\n",
    ")\n",
    "\n",
    "mensagens.append({\"role\":\"assistant\", \"content\":resposta.choices[0].message.content})\n",
    "\n",
    "mensagens\n"
   ]
  },
  {
   "cell_type": "markdown",
   "id": "12e730a1",
   "metadata": {},
   "source": [
    "### Utilizando Função"
   ]
  },
  {
   "cell_type": "code",
   "execution_count": 14,
   "id": "83a5fd50",
   "metadata": {},
   "outputs": [],
   "source": [
    "def geracao_texto(mensagens, model=\"gpt-3.5-turbo-0125\", max_tokens=1000, temperature=0):\n",
    "    resposta = client.chat.completions.create(\n",
    "        messages=mensagens,\n",
    "        model=model,\n",
    "        max_tokens=max_tokens,\n",
    "        temperature=temperature\n",
    "    )\n",
    "    \n",
    "    mensagens.append({\"role\":\"assistant\", \"content\":resposta.choices[0].message.content})\n",
    "    \n",
    "    return mensagens\n"
   ]
  },
  {
   "cell_type": "code",
   "execution_count": 15,
   "id": "86048881",
   "metadata": {},
   "outputs": [
    {
     "data": {
      "text/plain": [
       "[{'role': 'user', 'content': 'Defina o que é API em 5 palavras'},\n",
       " {'role': 'assistant', 'content': 'Interface de programação de aplicativos.'}]"
      ]
     },
     "execution_count": 15,
     "metadata": {},
     "output_type": "execute_result"
    }
   ],
   "source": [
    "msg1 = [{\"role\": \"user\", \"content\":\"Defina o que é API em 5 palavras\"}]\n",
    "\n",
    "mensagens = geracao_texto(msg1)\n",
    "\n",
    "mensagens"
   ]
  },
  {
   "cell_type": "markdown",
   "id": "a68f2600",
   "metadata": {},
   "source": [
    "### Utilizando Stream"
   ]
  },
  {
   "cell_type": "code",
   "execution_count": 17,
   "id": "d2355043",
   "metadata": {},
   "outputs": [
    {
     "name": "stdout",
     "output_type": "stream",
     "text": [
      "Era uma vez um jovem chamado Lucas que sonhava em se tornar um grande advogado. Ele estudou muito e se dedicou ao máximo para alcançar seu objetivo. Após anos de estudo, Lucas finalmente conseguiu se formar em Direito e decidiu se especializar em Direito Internacional.\n",
      "\n",
      "Ele se inscreveu em um programa de LLM (Master of Laws) em uma renomada universidade no exterior. Lá, ele teve a oportunidade de estudar com os melhores professores e conhecer colegas de diversas partes do mundo.\n",
      "\n",
      "Durante o curso, Lucas se destacou por sua dedicação e conhecimento, sendo reconhecido como um dos melhores alunos da turma. Ao final do programa, ele retornou ao seu país de origem e conseguiu uma ótima oportunidade de trabalho em um escritório de advocacia renomado.\n",
      "\n",
      "Graças ao seu LLM, Lucas conseguiu alcançar seu sonho de se tornar um grande advogado e conquistar o respeito e admiração de seus colegas. Ele sabia que todo o esforço e dedicação valeram a pena, e estava feliz por ter escolhido seguir seu coração e perseguir seus objetivos."
     ]
    }
   ],
   "source": [
    "mensagens = [{\"role\":\"user\", \"content\": \"Conte uma história simples e objetiva sobre LLM\"}]\n",
    "\n",
    "resposta = client.chat.completions.create(\n",
    "    messages=mensagens,\n",
    "    model=\"gpt-3.5-turbo-0125\",\n",
    "    max_tokens=1000,\n",
    "    temperature=0,\n",
    "    stream=True\n",
    ")\n",
    "\n",
    "resposta\n",
    "\n",
    "for resposta_stream in resposta:\n",
    "    texto = resposta_stream.choices[0].delta.content\n",
    "    if texto:\n",
    "        print(texto, end=\"\")\n",
    "        \n",
    "    "
   ]
  }
 ],
 "metadata": {
  "kernelspec": {
   "display_name": "venv",
   "language": "python",
   "name": "python3"
  },
  "language_info": {
   "codemirror_mode": {
    "name": "ipython",
    "version": 3
   },
   "file_extension": ".py",
   "mimetype": "text/x-python",
   "name": "python",
   "nbconvert_exporter": "python",
   "pygments_lexer": "ipython3",
   "version": "3.12.0"
  }
 },
 "nbformat": 4,
 "nbformat_minor": 5
}
