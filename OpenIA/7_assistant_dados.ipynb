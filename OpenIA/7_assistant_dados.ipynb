{
 "cells": [
  {
   "cell_type": "code",
   "execution_count": 24,
   "id": "2390bc8b",
   "metadata": {},
   "outputs": [],
   "source": [
    "import openai\n",
    "import pandas as pd\n",
    "\n",
    "client = openai.Client()\n"
   ]
  },
  {
   "cell_type": "code",
   "execution_count": 25,
   "id": "41e049be",
   "metadata": {},
   "outputs": [],
   "source": [
    "file = client.files.create(\n",
    "    file=open(\"sales_data.csv\", \"rb\"),\n",
    "    purpose= \"assistants\"\n",
    ")"
   ]
  },
  {
   "cell_type": "code",
   "execution_count": 27,
   "id": "70ded265",
   "metadata": {},
   "outputs": [
    {
     "name": "stdout",
     "output_type": "stream",
     "text": [
      "file-VgWxcrqru8FsJSxD7zzDZf\n"
     ]
    }
   ],
   "source": [
    "print(file.id)"
   ]
  },
  {
   "cell_type": "code",
   "execution_count": 28,
   "id": "93727979",
   "metadata": {},
   "outputs": [],
   "source": [
    "assistant = client.beta.assistants.create(\n",
    "    name=\"Analista de Dados\",\n",
    "    instructions=\"Você é um Analista que analisa dados sobre vendas\",\n",
    "    tools=[{\"type\": \"code_interpreter\"}],\n",
    "    tool_resources={\"code_interpreter\": {\"file_ids\": [file.id]}}, # Corrected line\n",
    "    model=\"gpt-4o\"\n",
    ")"
   ]
  },
  {
   "cell_type": "code",
   "execution_count": 29,
   "id": "3a968a68",
   "metadata": {},
   "outputs": [],
   "source": [
    "# pergunta =\"Qual o rating médio das vendas do supermercado\"\n",
    "\n",
    "pergunta =\"Gere um gráfico de Pizza com o percentual de vendas por linha de produtos.\""
   ]
  },
  {
   "cell_type": "code",
   "execution_count": 30,
   "id": "1e7bd4a5",
   "metadata": {},
   "outputs": [
    {
     "name": "stderr",
     "output_type": "stream",
     "text": [
      "C:\\Users\\dyogo.almeida\\AppData\\Local\\Temp\\ipykernel_15932\\143534826.py:3: DeprecationWarning: The Assistants API is deprecated in favor of the Responses API\n",
      "  thread = client.beta.threads.create()\n",
      "C:\\Users\\dyogo.almeida\\AppData\\Local\\Temp\\ipykernel_15932\\143534826.py:4: DeprecationWarning: The Assistants API is deprecated in favor of the Responses API\n",
      "  message = client.beta.threads.messages.create(\n"
     ]
    }
   ],
   "source": [
    "# Criação da Thread\n",
    "\n",
    "thread = client.beta.threads.create()\n",
    "message = client.beta.threads.messages.create(\n",
    "    thread_id = thread.id,\n",
    "    role =\"user\",\n",
    "    content = pergunta\n",
    ")"
   ]
  },
  {
   "cell_type": "code",
   "execution_count": 31,
   "id": "b96d889f",
   "metadata": {},
   "outputs": [
    {
     "name": "stderr",
     "output_type": "stream",
     "text": [
      "C:\\Users\\dyogo.almeida\\AppData\\Local\\Temp\\ipykernel_15932\\3010580843.py:3: DeprecationWarning: The Assistants API is deprecated in favor of the Responses API\n",
      "  run = client.beta.threads.runs.create(\n"
     ]
    }
   ],
   "source": [
    "# Executa a Thread\n",
    "\n",
    "run = client.beta.threads.runs.create(\n",
    "    thread_id = thread.id,\n",
    "    assistant_id = assistant.id,\n",
    "    instructions = \"Nome do usuário premium \"\n",
    ")"
   ]
  },
  {
   "cell_type": "code",
   "execution_count": 32,
   "id": "98ff13fb",
   "metadata": {},
   "outputs": [
    {
     "name": "stderr",
     "output_type": "stream",
     "text": [
      "C:\\Users\\dyogo.almeida\\AppData\\Local\\Temp\\ipykernel_15932\\3457621643.py:7: DeprecationWarning: The Assistants API is deprecated in favor of the Responses API\n",
      "  run = client.beta.threads.runs.retrieve(\n"
     ]
    }
   ],
   "source": [
    "import time\n",
    "\n",
    "# Assuming 'client', 'thread', and 'run' are already defined from previous steps\n",
    "\n",
    "while run.status in [\"queued\", \"in_progress\", \"cancelling\"]:\n",
    "    time.sleep(1)\n",
    "    run = client.beta.threads.runs.retrieve(\n",
    "        thread_id=thread.id,\n",
    "        run_id = run.id\n",
    "    )"
   ]
  },
  {
   "cell_type": "code",
   "execution_count": 34,
   "id": "3fc4bd71",
   "metadata": {},
   "outputs": [
    {
     "name": "stderr",
     "output_type": "stream",
     "text": [
      "C:\\Users\\dyogo.almeida\\AppData\\Local\\Temp\\ipykernel_15932\\827710479.py:2: DeprecationWarning: The Assistants API is deprecated in favor of the Responses API\n",
      "  mensagens = client.beta.threads.messages.list(\n"
     ]
    },
    {
     "name": "stdout",
     "output_type": "stream",
     "text": [
      "SyncCursorPage[Message](data=[Message(id='msg_5rXGpmUZfUowoAR8gUFxnzde', assistant_id='asst_mxqgc9bDIpPoh5X2tkdvW4L9', attachments=[], completed_at=None, content=[ImageFileContentBlock(image_file=ImageFile(file_id='file-G1SBvSDnSCWApUeDuTYPKs', detail=None), type='image_file'), TextContentBlock(text=Text(annotations=[], value='Aqui está o gráfico de pizza mostrando o percentual de vendas por linha de produtos. Cada segmento do gráfico representa a proporção das vendas totais que cada linha de produto contribuiu. Se precisar de mais alguma análise ou informação, sinta-se à vontade para pedir!'), type='text')], created_at=1750792350, incomplete_at=None, incomplete_details=None, metadata={}, object='thread.message', role='assistant', run_id='run_7bDwKxf1R24pyGNHDU3x5Daj', status=None, thread_id='thread_Os9YZbt0DuYlgHdHEeR5WTu8'), Message(id='msg_1oiRexJWcydEZKv65xP5aZVe', assistant_id='asst_mxqgc9bDIpPoh5X2tkdvW4L9', attachments=[], completed_at=None, content=[TextContentBlock(text=Text(annotations=[], value='Os dados contêm várias colunas, incluindo \"Product line\" e \"Total\", que são as que precisamos para criar o gráfico de pizza. Vamos calcular o percentual de vendas por linha de produtos e, em seguida, gerar o gráfico de pizza.'), type='text')], created_at=1750792343, incomplete_at=None, incomplete_details=None, metadata={}, object='thread.message', role='assistant', run_id='run_7bDwKxf1R24pyGNHDU3x5Daj', status=None, thread_id='thread_Os9YZbt0DuYlgHdHEeR5WTu8'), Message(id='msg_uGvJEkdQDyPsB8C5syOxN76q', assistant_id='asst_mxqgc9bDIpPoh5X2tkdvW4L9', attachments=[], completed_at=None, content=[TextContentBlock(text=Text(annotations=[], value='Vamos primeiro ler o arquivo que você enviou para entender melhor os dados e identificar a coluna que representa a linha de produtos e as vendas associadas a cada linha. Em seguida, poderemos criar um gráfico de pizza com o percentual de vendas por linha de produtos.'), type='text')], created_at=1750792339, incomplete_at=None, incomplete_details=None, metadata={}, object='thread.message', role='assistant', run_id='run_7bDwKxf1R24pyGNHDU3x5Daj', status=None, thread_id='thread_Os9YZbt0DuYlgHdHEeR5WTu8'), Message(id='msg_tELK3kirzrg6ckOXkyxpsjIC', assistant_id=None, attachments=[], completed_at=None, content=[TextContentBlock(text=Text(annotations=[], value='Gere um gráfico de Pizza com o percentual de vendas por linha de produtos.'), type='text')], created_at=1750792332, incomplete_at=None, incomplete_details=None, metadata={}, object='thread.message', role='user', run_id=None, status=None, thread_id='thread_Os9YZbt0DuYlgHdHEeR5WTu8')], has_more=False, object='list', first_id='msg_5rXGpmUZfUowoAR8gUFxnzde', last_id='msg_tELK3kirzrg6ckOXkyxpsjIC')\n"
     ]
    }
   ],
   "source": [
    "if run.status ==\"completed\":\n",
    "    mensagens = client.beta.threads.messages.list(\n",
    "        thread_id=thread.id\n",
    "    )\n",
    "    print(mensagens)\n",
    "else:\n",
    "    print(f\"Erro {run.status}\")"
   ]
  },
  {
   "cell_type": "code",
   "execution_count": 35,
   "id": "9419eec3",
   "metadata": {},
   "outputs": [
    {
     "name": "stderr",
     "output_type": "stream",
     "text": [
      "C:\\Users\\dyogo.almeida\\AppData\\Local\\Temp\\ipykernel_15932\\3017233887.py:3: DeprecationWarning: The Assistants API is deprecated in favor of the Responses API\n",
      "  run_steps = client.beta.threads.runs.steps.list(\n"
     ]
    }
   ],
   "source": [
    "# Analisando os passos do modelo\n",
    "\n",
    "run_steps = client.beta.threads.runs.steps.list(\n",
    "     thread_id=thread.id,\n",
    "     run_id = run.id\n",
    ")"
   ]
  },
  {
   "cell_type": "code",
   "execution_count": 38,
   "id": "5534b009",
   "metadata": {},
   "outputs": [
    {
     "name": "stdout",
     "output_type": "stream",
     "text": [
      "\n",
      "==== Passo: message_creation ====\n"
     ]
    },
    {
     "name": "stderr",
     "output_type": "stream",
     "text": [
      "C:\\Users\\dyogo.almeida\\AppData\\Local\\Temp\\ipykernel_15932\\1458713168.py:20: DeprecationWarning: The Assistants API is deprecated in favor of the Responses API\n",
      "  message = client.beta.threads.messages.retrieve(\n"
     ]
    },
    {
     "name": "stdout",
     "output_type": "stream",
     "text": [
      "Mensagem do Assistente:\n",
      "Vamos primeiro ler o arquivo que você enviou para entender melhor os dados e identificar a coluna que representa a linha de produtos e as vendas associadas a cada linha. Em seguida, poderemos criar um gráfico de pizza com o percentual de vendas por linha de produtos.\n",
      "\n",
      "==== Passo: tool_calls ====\n",
      "====================\n",
      "Entrada do Interpretador de Código:\n",
      "import pandas as pd\n",
      "\n",
      "# Lendo o arquivo\n",
      "file_path = '/mnt/data/file-VgWxcrqru8FsJSxD7zzDZf'\n",
      "data = pd.read_csv(file_path)\n",
      "\n",
      "# Exibindo as primeiras linhas do dataframe para entender sua estrutura\n",
      "data.head()\n",
      "====================\n",
      "\n",
      "==== Passo: message_creation ====\n",
      "Mensagem do Assistente:\n",
      "Os dados contêm várias colunas, incluindo \"Product line\" e \"Total\", que são as que precisamos para criar o gráfico de pizza. Vamos calcular o percentual de vendas por linha de produtos e, em seguida, gerar o gráfico de pizza.\n",
      "\n",
      "==== Passo: tool_calls ====\n",
      "====================\n",
      "Entrada do Interpretador de Código:\n",
      "import matplotlib.pyplot as plt\n",
      "\n",
      "# Calculando o total de vendas por linha de produtos\n",
      "sales_by_product_line = data.groupby('Product line')['Total'].sum()\n",
      "\n",
      "# Calculando o percentual de vendas\n",
      "sales_percentage = sales_by_product_line / sales_by_product_line.sum() * 100\n",
      "\n",
      "# Criando o gráfico de pizza\n",
      "plt.figure(figsize=(10, 8))\n",
      "plt.pie(sales_percentage, labels=sales_by_product_line.index, autopct='%1.1f%%', startangle=140)\n",
      "plt.title('Percentual de Vendas por Linha de Produtos')\n",
      "plt.axis('equal')  # Equal aspect ratio ensures that pie is drawn as a circle.\n",
      "plt.show()\n",
      "====================\n",
      "\n",
      "==== Passo: message_creation ====\n",
      "Imagem file-G1SBvSDnSCWApUeDuTYPKs salva em: files\\file-G1SBvSDnSCWApUeDuTYPKs.png\n",
      "Mensagem do Assistente:\n",
      "Aqui está o gráfico de pizza mostrando o percentual de vendas por linha de produtos. Cada segmento do gráfico representa a proporção das vendas totais que cada linha de produto contribuiu. Se precisar de mais alguma análise ou informação, sinta-se à vontade para pedir!\n"
     ]
    }
   ],
   "source": [
    "import os\n",
    "\n",
    "# Assumindo que 'client' e 'thread' estão definidos em outra parte do seu código\n",
    "\n",
    "for step in run_steps.data[::-1]:\n",
    "    print(f\"\\n==== Passo: {step.step_details.type} ====\")\n",
    "\n",
    "    if step.step_details.type == \"tool_calls\":\n",
    "        for tool_call in step.step_details.tool_calls:\n",
    "            print(\"=\" * 20)\n",
    "            if tool_call.type == \"code_interpreter\":\n",
    "                print(f\"Entrada do Interpretador de Código:\\n{tool_call.code_interpreter.input}\")\n",
    "            elif tool_call.type == \"retrieval\":\n",
    "                print(f\"Ferramenta de Recuperação (Retrieval) chamada.\")\n",
    "            elif tool_call.type == \"function\":\n",
    "                print(f\"Ferramenta de Função chamada: {tool_call.function.name} com argumentos {tool_call.function.arguments}\")\n",
    "            print(\"=\" * 20)\n",
    "\n",
    "    elif step.step_details.type == \"message_creation\":\n",
    "        message = client.beta.threads.messages.retrieve(\n",
    "            thread_id=thread.id,\n",
    "            message_id=step.step_details.message_creation.message_id\n",
    "        )\n",
    "\n",
    "        for content_block in message.content:\n",
    "            if content_block.type == \"text\":\n",
    "                print(f\"Mensagem do Assistente:\\n{content_block.text.value}\")\n",
    "            elif content_block.type == \"image_file\":\n",
    "                file_id = content_block.image_file.file_id\n",
    "                try:\n",
    "                    image_data = client.files.content(file_id).read()\n",
    "                    file_path = os.path.join(\"files\", f\"{file_id}.png\")\n",
    "                    with open(file_path, \"wb\") as f:\n",
    "                        f.write(image_data)\n",
    "                    print(f\"Imagem {file_id} salva em: {file_path}\")\n",
    "                except Exception as e:\n",
    "                    print(f\"Erro ao salvar imagem {file_id}: {e}\")"
   ]
  }
 ],
 "metadata": {
  "kernelspec": {
   "display_name": "venv",
   "language": "python",
   "name": "python3"
  },
  "language_info": {
   "codemirror_mode": {
    "name": "ipython",
    "version": 3
   },
   "file_extension": ".py",
   "mimetype": "text/x-python",
   "name": "python",
   "nbconvert_exporter": "python",
   "pygments_lexer": "ipython3",
   "version": "3.12.0"
  }
 },
 "nbformat": 4,
 "nbformat_minor": 5
}
