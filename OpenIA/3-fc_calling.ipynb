{
 "cells": [
  {
   "cell_type": "code",
   "execution_count": null,
   "id": "898ac07a",
   "metadata": {},
   "outputs": [],
   "source": [
    "import json\n",
    "import openai"
   ]
  },
  {
   "cell_type": "code",
   "execution_count": 14,
   "id": "772c604f",
   "metadata": {},
   "outputs": [],
   "source": [
    "client = openai.Client()\n",
    "\n",
    "\n",
    "def saudacao_por_periodo(hora):\n",
    "    if 5 <= 5 < 12:\n",
    "        return json.dumps({\"saudacao\": \"Bom Dia!\"})\n",
    "    elif 12 <= hora < 18:\n",
    "        return json.dumps({\"saudacao\": \"Boa Tarde!\"})\n",
    "    elif 18 <= hora < 22:\n",
    "        return json.dumps({\"saudacao\": \"Boa Noite!\"})\n",
    "    else:\n",
    "        return json.dumps({\"saudacao\": \"Boa Madrugada!\"})"
   ]
  },
  {
   "cell_type": "code",
   "execution_count": null,
   "id": "02c29359",
   "metadata": {},
   "outputs": [],
   "source": [
    "tools = [\n",
    "    {\n",
    "        \"type\": \"function\",\n",
    "        \"function\": {\n",
    "            \"name\": \"saudacao_por_periodo\",\n",
    "            \"description\": \"Retorna uma saudação baseada na hora do dia\",\n",
    "            \"parameters\": {\n",
    "                \"type\": \"object\",\n",
    "                \"properties\": {\n",
    "                    \"hora\": {\n",
    "                        \"type\": \"integer\",\n",
    "                        \"description\": \"A hora do dia em formato de 24h\"\n",
    "                    }\n",
    "                },\n",
    "                \"required\": [\"hora\"]\n",
    "            }\n",
    "        }\n",
    "    }\n",
    "]\n"
   ]
  },
  {
   "cell_type": "code",
   "execution_count": 6,
   "id": "05ecfe1a",
   "metadata": {},
   "outputs": [],
   "source": [
    "funcao_disponivel = {\n",
    "    \"saudacao_por_periodo\": saudacao_por_periodo\n",
    "}"
   ]
  },
  {
   "cell_type": "code",
   "execution_count": 18,
   "id": "a71efc2c",
   "metadata": {},
   "outputs": [],
   "source": [
    "mensagens = [{\"role\":\"user\", \"content\": \"Qual saudacao o modelo me dá ser for 15h ?\"}]\n",
    "\n",
    "resposta = client.chat.completions.create(\n",
    "    messages=mensagens,\n",
    "    model=\"gpt-3.5-turbo-0125\",\n",
    "    tools=tools,\n",
    "    tool_choice = \"auto\"\n",
    "    \n",
    ")"
   ]
  },
  {
   "cell_type": "code",
   "execution_count": 19,
   "id": "61430d1b",
   "metadata": {},
   "outputs": [
    {
     "data": {
      "text/plain": [
       "ChatCompletionMessage(content='A saudação que você deve dar ao modelo às 15h é \"Boa Tarde!\".', refusal=None, role='assistant', annotations=[], audio=None, function_call=None, tool_calls=None)"
      ]
     },
     "execution_count": 19,
     "metadata": {},
     "output_type": "execute_result"
    }
   ],
   "source": [
    "mensagem_resp = resposta.choices[0].message\n",
    "mensagem_resp\n",
    "\n",
    "tool_calls = mensagem_resp.tool_calls\n",
    "tool_calls\n",
    "\n",
    "if tool_calls:\n",
    "    mensagens.append(mensagem_resp)\n",
    "    for  tool_call in tool_calls:\n",
    "        function_name = tool_call.function.name\n",
    "        function_to_call = funcao_disponivel[function_name]\n",
    "        function_args = json.loads(tool_call.function.arguments)\n",
    "        function_response = function_to_call(\n",
    "            hora = function_args.get(\"hora\")\n",
    "        )\n",
    "        \n",
    "        mensagens.append(\n",
    "            {\n",
    "                \"tool_call_id\":tool_call.id,\n",
    "                \"role\":\"tool\",\n",
    "                \"name\": function_name,\n",
    "                \"content\": function_response\n",
    "                \n",
    "            }\n",
    "        )\n",
    "    segunda_resposta = client.chat.completions.create(\n",
    "        messages=mensagens,\n",
    "        model=\"gpt-3.5-turbo-0125\"\n",
    "    )\n",
    "\n",
    "mensagem_resposta = segunda_resposta.choices[0].message\n",
    "mensagem_resposta"
   ]
  }
 ],
 "metadata": {
  "kernelspec": {
   "display_name": "venv",
   "language": "python",
   "name": "python3"
  },
  "language_info": {
   "codemirror_mode": {
    "name": "ipython",
    "version": 3
   },
   "file_extension": ".py",
   "mimetype": "text/x-python",
   "name": "python",
   "nbconvert_exporter": "python",
   "pygments_lexer": "ipython3",
   "version": "3.12.0"
  }
 },
 "nbformat": 4,
 "nbformat_minor": 5
}
